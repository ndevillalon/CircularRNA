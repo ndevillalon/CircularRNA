{
 "cells": [
  {
   "cell_type": "code",
   "execution_count": 18,
   "metadata": {},
   "outputs": [],
   "source": [
    "import gzip\n",
    "\n",
    "# Abre el archivo SAM y almacena los nombres de secuencias que deseas eliminar\n",
    "sequences_to_remove = set()\n",
    "with open(\"T2314_KO_24h_S7_R2_001_micoplasma.sam\", \"r\") as sam_file:\n",
    "    for line in sam_file:\n",
    "        if not line.startswith(\"@\"):\n",
    "            fields = line.split(\"\\t\")\n",
    "            qname = fields[0]  # Obtenemos el campo QNAME\n",
    "            sequences_to_remove.add(qname)\n"
   ]
  },
  {
   "cell_type": "code",
   "execution_count": 19,
   "metadata": {},
   "outputs": [
    {
     "name": "stdout",
     "output_type": "stream",
     "text": [
      "set()\n"
     ]
    }
   ],
   "source": [
    "print(sequences_to_remove)"
   ]
  },
  {
   "cell_type": "code",
   "execution_count": 20,
   "metadata": {},
   "outputs": [
    {
     "name": "stdout",
     "output_type": "stream",
     "text": [
      "0\n"
     ]
    }
   ],
   "source": [
    "# Abre el archivo FASTQ comprimido en gzip y un nuevo archivo FASTQ comprimido en gzip para escribir las secuencias filtradas\n",
    "with gzip.open(\"T2314_KO_24h_S7_R2_001_final.fastq.gz\", \"rt\") as fastq_file, gzip.open(\"T2314_KO_24h_S7_R2_001_definitivo.fastq.gz\", \"wt\") as filtered_fastq:\n",
    "    buffer = []  # Almacena temporalmente las 4 líneas de cada secuencia\n",
    "    num=0\n",
    "    skip = False  # Indica si debemos omitir la secuencia actual\n",
    "    for line_number, line in enumerate(fastq_file, start=1):\n",
    "        buffer.append(line)\n",
    "        \n",
    "        # Cuando hemos almacenado las 4 líneas de una secuencia\n",
    "        if len(buffer) == 4:\n",
    "            # Modificamos el encabezado para eliminar la parte final\n",
    "            fastq_header = buffer[0].strip().rsplit(' ', 1)[0][1:]\n",
    "            \n",
    "            # Comprobamos si el encabezado coincide con los nombres de secuencias a eliminar\n",
    "            if fastq_header in sequences_to_remove:\n",
    "                skip = True  # Marca para omitir esta secuencia\n",
    "                num=num+1\n",
    "            # Si no coincide, escribimos las líneas en el archivo filtrado\n",
    "            if not skip:\n",
    "                filtered_fastq.writelines(buffer)\n",
    "            \n",
    "            buffer = []  # Reiniciamos el buffer para la siguiente secuencia\n",
    "            skip = False  # Restablecemos la marca de omisión\n",
    "print(num)"
   ]
  },
  {
   "cell_type": "code",
   "execution_count": null,
   "metadata": {},
   "outputs": [],
   "source": []
  }
 ],
 "metadata": {
  "kernelspec": {
   "display_name": "Python 3",
   "language": "python",
   "name": "python3"
  },
  "language_info": {
   "codemirror_mode": {
    "name": "ipython",
    "version": 3
   },
   "file_extension": ".py",
   "mimetype": "text/x-python",
   "name": "python",
   "nbconvert_exporter": "python",
   "pygments_lexer": "ipython3",
   "version": "3.8.5"
  }
 },
 "nbformat": 4,
 "nbformat_minor": 4
}
