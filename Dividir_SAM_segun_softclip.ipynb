{
 "cells": [
  {
   "cell_type": "code",
   "execution_count": 4,
   "metadata": {},
   "outputs": [
    {
     "name": "stdout",
     "output_type": "stream",
     "text": [
      "Total de secuencias procesadas: 42\n",
      "Secuencias sin softclip: 1\n",
      "Secuencias con softclip en un lado: 30\n",
      "Secuencias con softclip en ambos lados: 11\n"
     ]
    }
   ],
   "source": [
    "import re\n",
    "\n",
    "# Abre el archivo SAM y almacena las secuencias en las tres categorías\n",
    "f = open(\"T2314_KO_24h_S7_R2_001_definitivo.sam\", \"r\")\n",
    "outfile_no_softclip = open(\"T2314_KO_24h_S7_R2_001_definitivo_no_softclip.sam\", \"w\")\n",
    "outfile_one_softclip = open(\"T2314_KO_24h_S7_R2_001_definitivo_one_softclip.sam\", \"w\")\n",
    "outfile_both_softclip = open(\"T2314_KO_24h_S7_R2_001_definitivo_both_softclip.sam\", \"w\")\n",
    "\n",
    "totalcount = 0\n",
    "no_softclip_count = 0\n",
    "one_softclip_count = 0\n",
    "both_softclip_count = 0\n",
    "softclipmin = 2  # Mínima longitud de softclip requerida\n",
    "\n",
    "while True:\n",
    "    line = f.readline()\n",
    "    record = line.strip('\\n').split()\n",
    "    if not record:\n",
    "        break\n",
    "    if record[0][0] != \"@\":\n",
    "        totalcount += 1\n",
    "        cigar = record[5]\n",
    "        # Verificamos si \"S\" está presente tanto al principio como al final de CIGAR\n",
    "        if (cigar[1] == \"S\" or cigar[2] == \"S\" or cigar[3] == \"S\") and cigar[-1] == \"S\":\n",
    "            both_softclip_count += 1\n",
    "            outfile_both_softclip.write(line)\n",
    "        elif (cigar[1] == \"S\" or cigar[2] == \"S\" or cigar[3] == \"S\") or cigar[-1] == \"S\":\n",
    "            one_softclip_count += 1\n",
    "            outfile_one_softclip.write(line)\n",
    "        else:\n",
    "            no_softclip_count += 1\n",
    "            outfile_no_softclip.write(line)\n",
    "\n",
    "f.close()\n",
    "outfile_no_softclip.close()\n",
    "outfile_one_softclip.close()\n",
    "outfile_both_softclip.close()\n",
    "\n",
    "print(\"Total de secuencias procesadas:\", totalcount)\n",
    "print(\"Secuencias sin softclip:\", no_softclip_count)\n",
    "print(\"Secuencias con softclip en un lado:\", one_softclip_count)\n",
    "print(\"Secuencias con softclip en ambos lados:\", both_softclip_count)\n"
   ]
  },
  {
   "cell_type": "code",
   "execution_count": null,
   "metadata": {},
   "outputs": [],
   "source": []
  }
 ],
 "metadata": {
  "kernelspec": {
   "display_name": "Python 3",
   "language": "python",
   "name": "python3"
  },
  "language_info": {
   "codemirror_mode": {
    "name": "ipython",
    "version": 3
   },
   "file_extension": ".py",
   "mimetype": "text/x-python",
   "name": "python",
   "nbconvert_exporter": "python",
   "pygments_lexer": "ipython3",
   "version": "3.8.5"
  }
 },
 "nbformat": 4,
 "nbformat_minor": 4
}
