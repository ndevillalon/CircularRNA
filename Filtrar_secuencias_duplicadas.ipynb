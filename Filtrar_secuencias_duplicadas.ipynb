{
 "cells": [
  {
   "cell_type": "code",
   "execution_count": 21,
   "metadata": {},
   "outputs": [],
   "source": [
    "#SCRIPTS PARA ELIMINAR CONTAR Y ELIMINAR SECUENCIAS IGUALES\n",
    "\n",
    "from collections import Counter\n",
    "from scipy.stats import mode\n",
    "import gzip\n",
    "\n",
    "#Función para realizar la Barrow Wheeler Transform, que genera un tag que nos permitirá buscar secuencias repetidas más fácilmente\n",
    "\n",
    "def bwt(a):\n",
    "    words = list(a)\n",
    "    bwt = []\n",
    "\n",
    "    for i in range(len(words)):\n",
    "        word = a[-1] + a[:-1]\n",
    "        new = ''.join(word)\n",
    "        a = new\n",
    "        bwt.append(new)\n",
    "        i += 1\n",
    "\n",
    "    sort = sorted(bwt)\n",
    "\n",
    "    output = []\n",
    "    for i in range(len(words)):\n",
    "        element = sort[i]\n",
    "        last = element[-1]\n",
    "        i = i + 1\n",
    "        output.append(last)\n",
    "    output= \"\".join(output)\n",
    "    return output"
   ]
  },
  {
   "cell_type": "code",
   "execution_count": 30,
   "metadata": {},
   "outputs": [],
   "source": [
    "infile = gzip.open(\"T2314_KO_24h_S7_R2_001_consensus_over.fastq.gz\", \"r\")\n",
    "#Inicializar variables\n",
    "sequence_list = []\n",
    "sequence_dict = {}\n",
    "id_list=[] \n",
    "qscores_list=[]\n",
    "\n",
    "#Vamos leyendo el fichero de las secuencias detectadas como repetitivas y creamos una lista con los tags generados por la BWT\n",
    "#También generamos un diccionario con cada secuencia y su correspondiente tag de BWT para luego poder realizar el paso inverso\n",
    "\n",
    "while True:\n",
    "    SequenceID = infile.readline().decode().rstrip(\"\\n\")\n",
    "\n",
    "    if SequenceID == \"\":\n",
    "        break\n",
    "        \n",
    "    #leemos cada linea y guardamos las variables\n",
    "    Sequence = infile.readline().decode().rstrip(\"\\n\") \n",
    "    EmptyLine = infile.readline()\n",
    "    QualityScores = infile.readline().decode().rstrip(\"\\n\")\n",
    "    \n",
    "    #Guardamos la BWT de la secuencia y añadimos un registro más al diccionario con secuencia y tag\n",
    "    result = bwt(Sequence)\n",
    "    sequence_list.append(result)\n",
    "    sequence_dict[result] = Sequence\n",
    "    \n",
    "    #Guardamos los IDs y los QualityScores de cada secuencia de manera ordenada\n",
    "    id_list.append(SequenceID)\n",
    "    qscores_list.append(QualityScores)\n",
    "\n",
    "infile.close()"
   ]
  },
  {
   "cell_type": "code",
   "execution_count": 31,
   "metadata": {},
   "outputs": [],
   "source": [
    "#Dado que las secuencias solo tienen el mismo tag si son iguales o son iguales pero con un origen diferente, para eliminar  \n",
    "#duplicados y contarlos bastará con usar la función Counter sobre la lista de tags\n",
    "sequence_counts=Counter(sequence_list)\n",
    "\n",
    "#Generar fastq"
   ]
  },
  {
   "cell_type": "code",
   "execution_count": 32,
   "metadata": {},
   "outputs": [],
   "source": [
    "result_list = []\n",
    "import gzip\n",
    "\n",
    "output_file = gzip.open(\"T2314_KO_24h_S7_R2_001_filtered.fastq.gz\", \"wt\")\n",
    "\n",
    "for sequence in sequence_counts:\n",
    "    #Seleccionamos el SequenceID correspondiente a la primera posición que se halla al buscar cada secuencia en la lista del \n",
    "    #contador\n",
    "    pos=sequence_list.index(sequence)\n",
    "    id_seq=id_list[pos]\n",
    "    qscore=qscores_list[pos]\n",
    "    \n",
    "    #Obtenemos la cuenta asociada al tag\n",
    "    count = sequence_counts[sequence]\n",
    "    \n",
    "    #Obtenemos la secuencia repetitiva a la que se asocia el tag\n",
    "    seq = sequence_dict[sequence]\n",
    "    \n",
    "    record = \"{}\\n{}\\n+\\n{}\\n\".format(id_seq, seq, qscore)    \n",
    "    output_file.write(record)\n",
    "    result_list.append((count, seq, id_seq, qscore ))\n",
    "output_file.close()\n",
    "    "
   ]
  },
  {
   "cell_type": "code",
   "execution_count": 33,
   "metadata": {},
   "outputs": [],
   "source": [
    "#Pasar a Excel\n",
    "import pandas as pd\n",
    "\n",
    "# Crear un DataFrame a partir de result_list\n",
    "df = pd.DataFrame(result_list, columns=['Count', 'Sequence', 'SequenceID', 'QScore'])\n",
    "\n",
    "# Exportar el DataFrame a un archivo Excel\n",
    "df.to_excel('T2314_KO_24h_S7_R2_001_filtered.xlsx', index=False)\n"
   ]
  },
  {
   "cell_type": "code",
   "execution_count": 34,
   "metadata": {},
   "outputs": [
    {
     "name": "stdout",
     "output_type": "stream",
     "text": [
      "[('GAGGCCCCGAAGGAGGCGAGGCGCATTGGCGGTCGGAGGGCGGACCCGGTCCTGCCGGCCCCCCTTGCCTTGCCGCGCCACGCGACCGCCGGGCGCCTGGCCAATGCGTACAAAACGGCGCAGCCCGGAGGG', 5), ('GGTTAGGTGGAGAGAAAGAAGCCGCCCTGCACTGACTCATGACAGTGCCATGCCCCCGGCGCGCGAGGGACGATAGCTGCGAGCGAACCGGAGACCGCGGACATCGCACGCAAATCGTTAGCATGCGATAAA', 4), ('TTGACGCTCGTAATCAGCTTAGGCTTCCGTGTTCTGCTCCCGTGGGCACTAGGAGCCGTTGTTGCCCCCGGCAGCCTGGCGGAGGTCCCGTTGCGTATCTTATTGTCCAGCTTCTCCACCACCGGGACACTG', 3), ('TTGACGCTCGTAATCAGCTTAGGCTTCCGTGTTCTGCTCCCGTGGGCACAGGAGCCGTTGTTGCCCCCGGCAGCCTGGCGGAGGTCCCGTTGCGTATCTTATTGTCTAGCTCTCCACCACCGGGACTATTGC', 3), ('CGAGACCGGGGAAAGGGACGTCAAGAAGCTACACCCTGGGCGTGTGATGCTTTTTTTCGTCGAAGTAACGCTTTGAACAGTGAGAAATAGGAGTCTGGGATTTTAAATAGGAGAGAAATCTCAAAGGAAGTG', 3), ('TCAATGGAAGGAAGCGGGTGGGGACGCGCGCCGCAGGAGGGCGCCTGGGGGGGTGTGGCTTCCCAAGGGGAGTGGAGAGCGGAAGAGAAAGCAAAAAAAACACATACGGAAGAAAAAATAAAGCGCGGGGGG', 2), ('GGAACAGCCGGAAAAGTAAACTAAGTGCGTCAGGCAAATAAAACGACGCCTTAGTGTCACATGTTATGAGAGACTGATGATGTTTTAATGTAAGGATAGGATTCGGGGGCACCTCCTATAGAGGCTCGTGAA', 1), ('GCGATCTCGCGGAGGCGGAGGTGGCAGCCGACGGATCCCCATTCTACCGAACCGGCGACCCGAATGTCGCTCGCAGTAGTCAGCGTTGGTCACTGTGGTTTATTTCGCAGGCAGGAGCGGCCAGCTTACGTA', 1), ('CACAACGATGTACTGACCGATATACTTAGCCCCTTTGTGGTCCCTTTGTTTAATTAATCCTTTTGTTTTTGATAATAGTAAATGGTAGGACTGCCCTCTTCACCTTAATCACATACCCCTGCCCGCCAATCA', 1), ('GAAAAATGCGGAATCAAGGGCGTTTTGCAGTACGCGGGGGATGTTGGAGAGAACAGGAGGGGGAGGCGGATGGGGCCGGGGGGGTGCCGCGGCGGGGGGGGCCGGGTTTCAGGCACTGGACAAAGGGGGGGC', 1)]\n",
      "47\n",
      "61\n",
      "0.7704918032786885\n"
     ]
    }
   ],
   "source": [
    "print(sequence_counts.most_common(10))\n",
    "print(len(sequence_counts))\n",
    "print(sum(sequence_counts.values()))\n",
    "print(len(sequence_counts)/sum(sequence_counts.values()))\n"
   ]
  },
  {
   "cell_type": "code",
   "execution_count": 35,
   "metadata": {},
   "outputs": [],
   "source": [
    "#Buscar coincidencias con el complemento invertido y eliminarlas\n",
    "\n",
    "from Bio.Seq import Seq\n",
    "\n",
    "#Hacemos listas auxiliares para luego poder eliminar los duplicados y mantener el orden\n",
    "\n",
    "\n",
    "secuencias = [elemento[1] for elemento in result_list]\n",
    "contadores = [elemento[0] for elemento in result_list]\n",
    "ids = [elemento[2] for elemento in result_list]\n",
    "qscores = [elemento[3] for elemento in result_list]\n",
    "secuencias_bwt=list(sequence_counts.keys())\n",
    "\n",
    "i=0\n",
    "for secuencia in secuencias:\n",
    "\n",
    "    secuencia_obj = Seq(secuencia)\n",
    "    #Hallamos el complemento invertido\n",
    "    complemento_invertido = secuencia_obj.reverse_complement()\n",
    "    \n",
    "    #Realizamos la BWT\n",
    "    complemento_invertido = bwt(complemento_invertido)\n",
    "    \n",
    "    if complemento_invertido in secuencias_bwt:\n",
    "        coincidencias = [i for i, x in enumerate(secuencias_bwt) if x == complemento_invertido] \n",
    "        \n",
    "        # Eliminar las coincidencias de la lista en orden inverso para no alterar las posiciones de la lista\n",
    "        for index in reversed(coincidencias):\n",
    "            #Sumamos los duplicados que vamos a borrar al contador de la secuencia en cuestión\n",
    "            contadores[i]=contadores[i]+contadores[index]\n",
    "            \n",
    "            \n",
    "            secuencias_bwt.pop(index)            \n",
    "            secuencias.pop(index)\n",
    "            contadores.pop(index)\n",
    "            qscores.pop(index)\n",
    "            ids.pop(index)\n",
    "            \n",
    "    i=i+1      \n",
    "\n",
    "\n",
    "        "
   ]
  },
  {
   "cell_type": "code",
   "execution_count": 36,
   "metadata": {},
   "outputs": [],
   "source": [
    "data = {\n",
    "    'secuencias': secuencias,\n",
    "    'contadores': contadores,\n",
    "    'ids': ids,\n",
    "    'qscores': qscores\n",
    "}\n",
    "\n",
    "# Crear el DataFrame a partir del diccionario\n",
    "df2 = pd.DataFrame(data)\n",
    "\n",
    "# Guardar el DataFrame en un archivo FASTQ (Con etiqueta \"final\")\n",
    "with gzip.open('T2314_KO_24h_S7_R2_001_final.fastq.gz', 'wt') as f:\n",
    "    for _, row in df2.iterrows():\n",
    "        f.write(f'{row[\"ids\"]}\\n')\n",
    "        f.write(f'{row[\"secuencias\"]}\\n')\n",
    "        f.write('+\\n')\n",
    "        f.write(f'{row[\"qscores\"]}\\n')\n"
   ]
  },
  {
   "cell_type": "code",
   "execution_count": 37,
   "metadata": {},
   "outputs": [],
   "source": [
    "#Pasar a Excel\n",
    "import pandas as pd\n",
    "\n",
    "# Exportar el DataFrame a un archivo Excel\n",
    "df2.to_excel('T2314_KO_24h_S7_R2_001_final.xlsx', index=False)\n"
   ]
  },
  {
   "cell_type": "code",
   "execution_count": null,
   "metadata": {},
   "outputs": [],
   "source": []
  },
  {
   "cell_type": "code",
   "execution_count": 3,
   "metadata": {},
   "outputs": [],
   "source": []
  },
  {
   "cell_type": "code",
   "execution_count": null,
   "metadata": {},
   "outputs": [],
   "source": []
  }
 ],
 "metadata": {
  "kernelspec": {
   "display_name": "Python 3",
   "language": "python",
   "name": "python3"
  },
  "language_info": {
   "codemirror_mode": {
    "name": "ipython",
    "version": 3
   },
   "file_extension": ".py",
   "mimetype": "text/x-python",
   "name": "python",
   "nbconvert_exporter": "python",
   "pygments_lexer": "ipython3",
   "version": "3.8.5"
  }
 },
 "nbformat": 4,
 "nbformat_minor": 4
}
