{
 "cells": [
  {
   "cell_type": "code",
   "execution_count": null,
   "metadata": {},
   "outputs": [],
   "source": [
    "\n",
    "\"\"\"\n",
    "Created on Mon Sep 12 06:37:07 2022\n",
    "Adaptación de CirSeq a reads de 150 nt\n",
    "@author: Rocío Marugán (rmaruganpin@alumni.unav.es)\n",
    "\"\"\"\n",
    "import gzip\n",
    "\n",
    "#%% Obtención de todas las permutaciones de la unidad repetitiva\n",
    "\n",
    "def rotate(Sequence):\n",
    "    i = 0\n",
    "    \n",
    "    while i < len(Sequence):\n",
    "        SequenceID_2 = \"@\" + \"rotation\" + str(i) + SequenceID\n",
    "        outfile4.write(SequenceID_2.encode())\n",
    "        Sequence_2 = Sequence[-i:] + Sequence[:-i] + \"\\n\"\n",
    "        outfile4.write(Sequence_2.encode())\n",
    "        outfile4.write(EmptyLine)\n",
    "        QualityScores_2 = QualityScores + \"\\n\"\n",
    "        outfile4.write(QualityScores_2.encode())\n",
    "        i += 1\n",
    "        \n",
    "infile = gzip.open(\"T2314_KO_24h_S7_R1_001_final3.fastq.gz\", \"r\")\n",
    "outfile4 = gzip.open(\"T2314_KO_24h_S7_R1_001_final3_shifted.fastq.gz\",\"wb\")\n",
    "\n",
    "\n",
    "while True:\n",
    "    \n",
    "    SequenceID = infile.readline().decode().replace(\"@\",\"\")    \n",
    "\n",
    "    if SequenceID == \"\":\n",
    "        break\n",
    " \n",
    "    Sequence = infile.readline().decode()\n",
    "    Sequence = Sequence.rstrip(\"\\n\") \n",
    "    EmptyLine = infile.readline()\n",
    "    QualityScores = infile.readline().decode()\n",
    "    QualityScores = QualityScores.rstrip(\"\\n\")\n",
    "    \n",
    "    Sequence = rotate(Sequence)\n",
    "    \n",
    "infile.close()\n",
    "outfile4.close()"
   ]
  }
 ],
 "metadata": {
  "kernelspec": {
   "display_name": "Python 3",
   "language": "python",
   "name": "python3"
  },
  "language_info": {
   "codemirror_mode": {
    "name": "ipython",
    "version": 3
   },
   "file_extension": ".py",
   "mimetype": "text/x-python",
   "name": "python",
   "nbconvert_exporter": "python",
   "pygments_lexer": "ipython3",
   "version": "3.8.5"
  }
 },
 "nbformat": 4,
 "nbformat_minor": 4
}
